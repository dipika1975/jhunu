{
 "cells": [
  {
   "cell_type": "markdown",
   "id": "2407498d",
   "metadata": {},
   "source": [
    "# Data science Tools and Ecosystem "
   ]
  },
  {
   "cell_type": "markdown",
   "id": "1c14d924",
   "metadata": {},
   "source": [
    "In this notebook, Data Science Tools and Ecosystem are summarized."
   ]
  },
  {
   "cell_type": "markdown",
   "id": "9ce63a81",
   "metadata": {},
   "source": [
    "Some of the popular languages that Data Scientists use are:\n",
    "1. python\n",
    "2. SQL\n",
    "3. R\n"
   ]
  },
  {
   "cell_type": "markdown",
   "id": "0a17dfd0",
   "metadata": {},
   "source": [
    "Some of the commonly used libraries used by data scientists\n",
    "1. numpy\n",
    "2. matplotlib\n",
    "3. seaborn "
   ]
  },
  {
   "cell_type": "markdown",
   "id": "c22f77ff",
   "metadata": {},
   "source": [
    "|Data science Tools| \n",
    "|---------------|\n",
    "|RStudio|\n",
    "|Jupyter|\n",
    "|Apache Zeppelin|\n"
   ]
  },
  {
   "cell_type": "markdown",
   "id": "4a4d0021",
   "metadata": {},
   "source": [
    "Below are few example of evaluating arithmetic expression in Python"
   ]
  },
  {
   "cell_type": "code",
   "execution_count": 3,
   "id": "56a1fa93",
   "metadata": {},
   "outputs": [
    {
     "data": {
      "text/plain": [
       "8"
      ]
     },
     "execution_count": 3,
     "metadata": {},
     "output_type": "execute_result"
    }
   ],
   "source": [
    "a=4\n",
    "b=(a*2)\n",
    "b"
   ]
  },
  {
   "cell_type": "code",
   "execution_count": 4,
   "id": "c19ecf9c",
   "metadata": {},
   "outputs": [
    {
     "data": {
      "text/plain": [
       "64"
      ]
     },
     "execution_count": 4,
     "metadata": {},
     "output_type": "execute_result"
    }
   ],
   "source": [
    "b*b"
   ]
  },
  {
   "cell_type": "code",
   "execution_count": 5,
   "id": "cbc670bf",
   "metadata": {},
   "outputs": [
    {
     "data": {
      "text/plain": [
       "17"
      ]
     },
     "execution_count": 5,
     "metadata": {},
     "output_type": "execute_result"
    }
   ],
   "source": [
    "# This a simple arithmetic expression to mutiply then add integers.\n",
    "(3*4)+5"
   ]
  },
  {
   "cell_type": "code",
   "execution_count": 10,
   "id": "9f1082d0",
   "metadata": {},
   "outputs": [
    {
     "name": "stdout",
     "output_type": "stream",
     "text": [
      "hours= 8\n",
      "minute= 20\n"
     ]
    }
   ],
   "source": [
    "#This will convert 200 minutes to hours by diving by 60\n",
    "m=500\n",
    "h=m/60\n",
    "m1=m%60\n",
    "print(\"hours=\",int(h))\n",
    "print(\"minute=\",m1)"
   ]
  },
  {
   "cell_type": "markdown",
   "id": "7ff497e8",
   "metadata": {},
   "source": [
    "### Objectives"
   ]
  },
  {
   "cell_type": "markdown",
   "id": "87430c84",
   "metadata": {},
   "source": [
    "* List popular languages for Data Science\n",
    "* open source development environment .\n",
    "* arithmetic expressions in python.\n",
    "* code to convert minutes into hours.\n"
   ]
  },
  {
   "cell_type": "markdown",
   "id": "4ec4759d",
   "metadata": {},
   "source": [
    "## Author name is dipika dora"
   ]
  },
  {
   "cell_type": "code",
   "execution_count": null,
   "id": "8d372092",
   "metadata": {},
   "outputs": [],
   "source": []
  },
  {
   "cell_type": "code",
   "execution_count": null,
   "id": "f82828e2",
   "metadata": {},
   "outputs": [],
   "source": []
  },
  {
   "cell_type": "code",
   "execution_count": null,
   "id": "7f5cbce5",
   "metadata": {},
   "outputs": [],
   "source": []
  },
  {
   "cell_type": "code",
   "execution_count": null,
   "id": "24db27b2",
   "metadata": {},
   "outputs": [],
   "source": []
  },
  {
   "cell_type": "code",
   "execution_count": null,
   "id": "42d38e33",
   "metadata": {},
   "outputs": [],
   "source": []
  },
  {
   "cell_type": "code",
   "execution_count": null,
   "id": "d18c62a3",
   "metadata": {},
   "outputs": [],
   "source": []
  }
 ],
 "metadata": {
  "kernelspec": {
   "display_name": "Python 3 (ipykernel)",
   "language": "python",
   "name": "python3"
  },
  "language_info": {
   "codemirror_mode": {
    "name": "ipython",
    "version": 3
   },
   "file_extension": ".py",
   "mimetype": "text/x-python",
   "name": "python",
   "nbconvert_exporter": "python",
   "pygments_lexer": "ipython3",
   "version": "3.9.13"
  }
 },
 "nbformat": 4,
 "nbformat_minor": 5
}
